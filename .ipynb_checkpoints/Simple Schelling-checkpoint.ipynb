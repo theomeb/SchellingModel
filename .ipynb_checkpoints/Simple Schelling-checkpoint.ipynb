{
 "cells": [
  {
   "cell_type": "markdown",
   "metadata": {},
   "source": [
    "## Import "
   ]
  },
  {
   "cell_type": "code",
   "execution_count": null,
   "metadata": {
    "collapsed": true
   },
   "outputs": [],
   "source": [
    "%matplotlib notebook\n"
   ]
  },
  {
   "cell_type": "code",
   "execution_count": 73,
   "metadata": {
    "collapsed": true
   },
   "outputs": [],
   "source": [
    "import numpy as np\n",
    "import matplotlib.pyplot as plt\n",
    "import random\n",
    "from matplotlib import colors\n",
    "import copy\n",
    "from time import sleep\n",
    "import matplotlib.animation as animation\n",
    "\n"
   ]
  },
  {
   "cell_type": "markdown",
   "metadata": {},
   "source": [
    "## Usefull functions"
   ]
  },
  {
   "cell_type": "markdown",
   "metadata": {},
   "source": [
    "###### useful function to next find the neighbors of a given node"
   ]
  },
  {
   "cell_type": "code",
   "execution_count": 3,
   "metadata": {
    "collapsed": true
   },
   "outputs": [],
   "source": [
    "def inter(x, a):\n",
    "    if x//a not in [0, 1]:\n",
    "        return \"error\"\n",
    "    else:\n",
    "        if x//a == 0:\n",
    "            return 1\n",
    "        return -1"
   ]
  },
  {
   "cell_type": "markdown",
   "metadata": {},
   "source": [
    "###### neighbors of a given node we consider that a node has a maximum number of 8 neighbors"
   ]
  },
  {
   "cell_type": "code",
   "execution_count": 4,
   "metadata": {
    "collapsed": true
   },
   "outputs": [],
   "source": [
    "def neighbor(node, shape):\n",
    "    x, y = node[0], node[1]\n",
    "    max_index = shape - 1\n",
    "\n",
    "    pos_x = x % max_index\n",
    "    pos_y = y % max_index\n",
    "\n",
    "    # node is not on the edge of the grid\n",
    "    if pos_x != 0 and pos_y != 0:\n",
    "        return ([(x - 1, y), (x - 1, y + 1), (x, y + 1), (x + 1, y + 1), (x + 1, y), (x + 1, y - 1), (x, y - 1),\n",
    "                 (x - 1, y - 1)])\n",
    "\n",
    "    # node is on one of the corner\n",
    "    elif pos_x == 0 and pos_y == 0:\n",
    "        return ([(x + inter(x, max_index), y), (x + inter(x, max_index), y + inter(y, max_index)),\n",
    "                 (x, y + inter(y, max_index))])\n",
    "\n",
    "    # other cases\n",
    "    else:\n",
    "        if pos_x == 0:\n",
    "            return ([(x, y + 1), (x + inter(x, max_index), y + 1), (x + inter(x, max_index), y),\n",
    "                     (x + inter(x, max_index), y - 1), (x, y - 1)])\n",
    "        else:\n",
    "            return ([(x + 1, y), (x + 1, y + inter(y, max_index)), (x, y + inter(y, max_index)),\n",
    "                     (x - 1, y + inter(y, max_index)), (x - 1, y)])\n"
   ]
  },
  {
   "cell_type": "markdown",
   "metadata": {},
   "source": [
    "###### returns the percentage of alike neighbors of a node"
   ]
  },
  {
   "cell_type": "code",
   "execution_count": 21,
   "metadata": {
    "collapsed": true
   },
   "outputs": [],
   "source": [
    "def satisfied(grid, node):\n",
    "    size = grid.shape[0]\n",
    "    kind = grid[node[0]][node[1]]\n",
    "    nb_alike = 0  # type: int\n",
    "    surroundings = 0\n",
    "    neighbors = neighbor(node, size)\n",
    "    for n in neighbors:\n",
    "        if grid[n[0]][n[1]] == kind:\n",
    "            nb_alike += 1\n",
    "        if grid[n[0]][n[1]] != 0:\n",
    "            surroundings += 1\n",
    "    if surroundings > 0:\n",
    "        return nb_alike/surroundings\n",
    "    else : \n",
    "        return 0"
   ]
  },
  {
   "cell_type": "markdown",
   "metadata": {},
   "source": [
    "###### returns the unsatisfied agents given the tolerance percentage returns both the coordinates and the type of"
   ]
  },
  {
   "cell_type": "code",
   "execution_count": 6,
   "metadata": {
    "collapsed": true
   },
   "outputs": [],
   "source": [
    "def unsatisfied_agents(t, grid):\n",
    "    res = []\n",
    "    size = grid.shape[0]\n",
    "    for i in range(size):\n",
    "        for j in range(size):\n",
    "            if grid[i][j] != 0 and satisfied(grid, (i, j)) < t:\n",
    "                res.append(((i, j), grid[i][j]))\n",
    "    return res"
   ]
  },
  {
   "cell_type": "markdown",
   "metadata": {},
   "source": [
    "###### returns the empty cases of a grid returns both the coordinates and the kind, 0"
   ]
  },
  {
   "cell_type": "code",
   "execution_count": 7,
   "metadata": {
    "collapsed": true
   },
   "outputs": [],
   "source": [
    "def empty_cases(grid):\n",
    "    size = grid.shape[0]\n",
    "    res = []\n",
    "    for i in range(size):\n",
    "        for j in range(size):\n",
    "            if grid[i][j] == 0:\n",
    "                res.append(((i, j), 0))\n",
    "    return res"
   ]
  },
  {
   "cell_type": "markdown",
   "metadata": {},
   "source": [
    "## Implementation of the model"
   ]
  },
  {
   "cell_type": "code",
   "execution_count": 74,
   "metadata": {
    "collapsed": true
   },
   "outputs": [],
   "source": [
    "# Parameters of the simple Schelling model\n",
    "# t : percentage of same neighbors to get satisfied\n",
    "# p_blue : percentage of blue people\n",
    "# p_empty : percentage of empty cases\n",
    "# N :size of the grid\n",
    "# n_iterations_max : just for the computing on PyCharm so that the animation eventually end up\n",
    "\n",
    "# We suppose there are only two groups of different people,\n",
    "# may it be by their race color, their nationality, their religion etc\n",
    "# who have the same percentage of satisfaction\n",
    "\n",
    "\n",
    "\n",
    "\n",
    "\n",
    "def simple_schelling(t, p_empty, N, n_iterations_max, p_blue=.5):\n",
    "    # initialization of the grid\n",
    "    # the two agent types are placed into random locations\n",
    "    # 0 :empty 1 : blue 2 : red\n",
    "    nb_empty, nb_blue = int(p_empty * N * N), int(p_blue * (1 - p_empty) * N * N)\n",
    "    nb_red = N ** 2 - nb_empty - nb_blue\n",
    "    placement = np.random.permutation([0] * nb_empty + [1] * nb_blue + [2] * nb_red).reshape(N, N)\n",
    "    placements=[placement]\n",
    "\n",
    "    # next step : moving the unsatisfied agents\n",
    "    # until they get satisfied    \n",
    "    # or until the number of iterations has reached its limit\n",
    "    # we get the coordinates of each unsatisfied agent and of each blank case\n",
    "    # they all move in one round : each unsatisfied agent's location\n",
    "    # is temporarily considered as an empty space and they permute\n",
    "    unsatisfied = unsatisfied_agents(t, placement)\n",
    "    nb_iterations = 0\n",
    "\n",
    "    while unsatisfied != [] and nb_iterations < n_iterations_max:\n",
    "        to_be_changed = unsatisfied + empty_cases(placement)\n",
    "        changed = np.random.permutation(to_be_changed)\n",
    "        for i in range(len(to_be_changed)):\n",
    "            placement[to_be_changed[i][0][0]][to_be_changed[i][0][1]] = changed[i][1]\n",
    "        if i%100 == 0:\n",
    "            placements.append(copy.deepcopy(placement))\n",
    "        unsatisfied = unsatisfied_agents(t, placement)\n",
    "        nb_iterations += 1\n",
    "        \n",
    "    return(placements)\n",
    "    "
   ]
  },
  {
   "cell_type": "code",
   "execution_count": null,
   "metadata": {
    "collapsed": true
   },
   "outputs": [],
   "source": [
    "placements=simple_schelling(.5,.0001,100,10000, p_blue=.5)"
   ]
  },
  {
   "cell_type": "code",
   "execution_count": 66,
   "metadata": {
    "collapsed": false
   },
   "outputs": [
    {
     "data": {
      "text/plain": [
       "<IPython.core.display.Javascript object>"
      ]
     },
     "metadata": {},
     "output_type": "display_data"
    },
    {
     "data": {
      "text/html": [
       "<img src=\"data:image/png;base64,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\" width=\"640\">"
      ],
      "text/plain": [
       "<IPython.core.display.HTML object>"
      ]
     },
     "metadata": {},
     "output_type": "execute_result"
    }
   ],
   "source": [
    "\n",
    "fig = plt.figure()\n",
    "ax = fig.add_subplot(111)\n",
    "plt.ion()\n",
    "\n",
    "ax.clear()\n",
    "fig.canvas.draw()\n",
    "sleep(1)\n",
    "for i in range(len(placements)):\n",
    "    ax.clear()\n",
    "    ax.imshow(placements[i])\n",
    "    fig.canvas.draw()\n",
    "    sleep(0.2)"
   ]
  }
 ],
 "metadata": {
  "kernelspec": {
   "display_name": "Python 3",
   "language": "python",
   "name": "python3"
  },
  "language_info": {
   "codemirror_mode": {
    "name": "ipython",
    "version": 3
   },
   "file_extension": ".py",
   "mimetype": "text/x-python",
   "name": "python",
   "nbconvert_exporter": "python",
   "pygments_lexer": "ipython3",
   "version": "3.6.0"
  }
 },
 "nbformat": 4,
 "nbformat_minor": 2
}
