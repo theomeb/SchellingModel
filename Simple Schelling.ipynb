{
 "cells": [
  {
   "cell_type": "markdown",
   "metadata": {},
   "source": [
    "## Import "
   ]
  },
  {
   "cell_type": "code",
   "execution_count": null,
   "metadata": {},
   "outputs": [],
   "source": [
    "%matplotlib notebook\n"
   ]
  },
  {
   "cell_type": "code",
   "execution_count": 2,
   "metadata": {},
   "outputs": [],
   "source": [
    "import numpy as np\n",
    "import matplotlib.pyplot as plt\n",
    "import random\n",
    "from matplotlib import colors\n",
    "import copy\n",
    "from time import sleep\n",
    "import matplotlib.animation as animation\n",
    "\n"
   ]
  },
  {
   "cell_type": "markdown",
   "metadata": {},
   "source": [
    "## Usefull functions"
   ]
  },
  {
   "cell_type": "markdown",
   "metadata": {},
   "source": [
    "###### useful function to next find the neighbors of a given node"
   ]
  },
  {
   "cell_type": "code",
   "execution_count": 3,
   "metadata": {},
   "outputs": [],
   "source": [
    "def inter(x, a):\n",
    "    if x//a not in [0, 1]:\n",
    "        return \"error\"\n",
    "    else:\n",
    "        if x//a == 0:\n",
    "            return 1\n",
    "        return -1"
   ]
  },
  {
   "cell_type": "markdown",
   "metadata": {},
   "source": [
    "###### neighbors of a given node we consider that a node has a maximum number of 8 neighbors"
   ]
  },
  {
   "cell_type": "code",
   "execution_count": 4,
   "metadata": {},
   "outputs": [],
   "source": [
    "def neighbor(node, shape):\n",
    "    x, y = node[0], node[1]\n",
    "    max_index = shape - 1\n",
    "\n",
    "    pos_x = x % max_index\n",
    "    pos_y = y % max_index\n",
    "\n",
    "    # node is not on the edge of the grid\n",
    "    if pos_x != 0 and pos_y != 0:\n",
    "        return ([(x - 1, y), (x - 1, y + 1), (x, y + 1), (x + 1, y + 1), (x + 1, y), (x + 1, y - 1), (x, y - 1),\n",
    "                 (x - 1, y - 1)])\n",
    "\n",
    "    # node is on one of the corner\n",
    "    elif pos_x == 0 and pos_y == 0:\n",
    "        return ([(x + inter(x, max_index), y), (x + inter(x, max_index), y + inter(y, max_index)),\n",
    "                 (x, y + inter(y, max_index))])\n",
    "\n",
    "    # other cases\n",
    "    else:\n",
    "        if pos_x == 0:\n",
    "            return ([(x, y + 1), (x + inter(x, max_index), y + 1), (x + inter(x, max_index), y),\n",
    "                     (x + inter(x, max_index), y - 1), (x, y - 1)])\n",
    "        else:\n",
    "            return ([(x + 1, y), (x + 1, y + inter(y, max_index)), (x, y + inter(y, max_index)),\n",
    "                     (x - 1, y + inter(y, max_index)), (x - 1, y)])\n"
   ]
  },
  {
   "cell_type": "markdown",
   "metadata": {},
   "source": [
    "###### returns the percentage of alike neighbors of a node"
   ]
  },
  {
   "cell_type": "code",
   "execution_count": 5,
   "metadata": {},
   "outputs": [],
   "source": [
    "def satisfied(grid, node):\n",
    "    size = grid.shape[0]\n",
    "    kind = grid[node[0]][node[1]]\n",
    "    nb_alike = 0  # type: int\n",
    "    surroundings = 0\n",
    "    neighbors = neighbor(node, size)\n",
    "    for n in neighbors:\n",
    "        if grid[n[0]][n[1]] == kind:\n",
    "            nb_alike += 1\n",
    "        if grid[n[0]][n[1]] != 0:\n",
    "            surroundings += 1\n",
    "    return nb_alike/surroundings"
   ]
  },
  {
   "cell_type": "markdown",
   "metadata": {},
   "source": [
    "###### returns the unsatisfied agents given the tolerance percentage returns both the coordinates and the type of"
   ]
  },
  {
   "cell_type": "code",
   "execution_count": 6,
   "metadata": {},
   "outputs": [],
   "source": [
    "def unsatisfied_agents(t, grid):\n",
    "    res = []\n",
    "    size = grid.shape[0]\n",
    "    for i in range(size):\n",
    "        for j in range(size):\n",
    "            if grid[i][j] != 0 and satisfied(grid, (i, j)) < t:\n",
    "                res.append(((i, j), grid[i][j]))\n",
    "    return res"
   ]
  },
  {
   "cell_type": "markdown",
   "metadata": {},
   "source": [
    "###### returns the empty cases of a grid returns both the coordinates and the kind, 0"
   ]
  },
  {
   "cell_type": "code",
   "execution_count": 7,
   "metadata": {},
   "outputs": [],
   "source": [
    "def empty_cases(grid):\n",
    "    size = grid.shape[0]\n",
    "    res = []\n",
    "    for i in range(size):\n",
    "        for j in range(size):\n",
    "            if grid[i][j] == 0:\n",
    "                res.append(((i, j), 0))\n",
    "    return res"
   ]
  },
  {
   "cell_type": "markdown",
   "metadata": {},
   "source": [
    "## Implementation of the model"
   ]
  },
  {
   "cell_type": "code",
   "execution_count": 52,
   "metadata": {},
   "outputs": [],
   "source": [
    "# Parameters of the simple Schelling model\n",
    "# t : percentage of same neighbors to get satisfied\n",
    "# p_blue : percentage of blue people\n",
    "# p_empty : percentage of empty cases\n",
    "# N :size of the grid\n",
    "# n_iterations_max : just for the computing on PyCharm so that the animation eventually end up\n",
    "\n",
    "# We suppose there are only two groups of different people,\n",
    "# may it be by their race color, their nationality, their religion etc\n",
    "# who have the same percentage of satisfaction\n",
    "\n",
    "def simple_schelling(t, p_empty, N, n_iterations_max, p_blue=.5):\n",
    "    # initialization of the grid\n",
    "    # the two agent types are placed into random locations\n",
    "    # 0 :empty 1 : blue 2 : red\n",
    "    nb_empty, nb_blue = int(p_empty * N * N), int(p_blue * (1 - p_empty) * N * N)\n",
    "    nb_red = N ** 2 - nb_empty - nb_blue\n",
    "    placement = np.random.permutation([0] * nb_empty + [1] * nb_blue + [2] * nb_red).reshape(N, N)\n",
    "    placements=[placement]\n",
    "\n",
    "    # next step : moving the unsatisfied agents\n",
    "    # until they get satisfied    \n",
    "    # or until the number of iterations has reached its limit\n",
    "    # we get the coordinates of each unsatisfied agent and of each blank case\n",
    "    # they all move in one round : each unsatisfied agent's location\n",
    "    # is temporarily considered as an empty space and they permute\n",
    "    unsatisfied = unsatisfied_agents(t, placement)\n",
    "    nb_iterations = 0\n",
    "\n",
    "    while unsatisfied != [] and nb_iterations < n_iterations_max:\n",
    "        to_be_changed = unsatisfied + empty_cases(placement)\n",
    "        changed = np.random.permutation(to_be_changed)\n",
    "        for i in range(len(to_be_changed)):\n",
    "            placement[to_be_changed[i][0][0]][to_be_changed[i][0][1]] = changed[i][1]\n",
    "        placements.append(copy.deepcopy(placement))\n",
    "        unsatisfied = unsatisfied_agents(t, placement)\n",
    "        nb_iterations += 1\n",
    "        \n",
    "    return(placements)\n",
    "    "
   ]
  },
  {
   "cell_type": "code",
   "execution_count": 53,
   "metadata": {},
   "outputs": [],
   "source": [
    "placements=simple_schelling(.5,.1,100,200, p_blue=.5)"
   ]
  },
  {
   "cell_type": "code",
   "execution_count": 55,
   "metadata": {},
   "outputs": [
    {
     "data": {
      "text/plain": [
       "<IPython.core.display.Javascript object>"
      ]
     },
     "metadata": {},
     "output_type": "display_data"
    },
    {
     "data": {
      "text/html": [
       "<img src=\"data:image/png;base64,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\" width=\"640\">"
      ],
      "text/plain": [
       "<IPython.core.display.HTML object>"
      ]
     },
     "metadata": {},
     "output_type": "execute_result"
    }
   ],
   "source": [
    "\n",
    "fig = plt.figure()\n",
    "ax = fig.add_subplot(111)\n",
    "plt.ion()\n",
    "\n",
    "\n",
    "fig.canvas.draw()\n",
    "\n",
    "for i in range(len(placements)):\n",
    "    ax.clear()\n",
    "    ax.imshow(placements[i])\n",
    "    fig.canvas.draw()"
   ]
  }
 ],
 "metadata": {
  "kernelspec": {
   "display_name": "Python 3",
   "language": "python",
   "name": "python3"
  },
  "language_info": {
   "codemirror_mode": {
    "name": "ipython",
    "version": 3
   },
   "file_extension": ".py",
   "mimetype": "text/x-python",
   "name": "python",
   "nbconvert_exporter": "python",
   "pygments_lexer": "ipython3",
   "version": "3.6.3"
  }
 },
 "nbformat": 4,
 "nbformat_minor": 2
}
